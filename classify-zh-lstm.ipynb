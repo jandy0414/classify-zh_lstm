{
 "cells": [
  {
   "cell_type": "code",
   "execution_count": 1,
   "metadata": {},
   "outputs": [
    {
     "name": "stdout",
     "output_type": "stream",
     "text": [
      "2.0.0\n",
      "sys.version_info(major=3, minor=6, micro=2, releaselevel='final', serial=0)\n",
      "matplotlib 3.1.2\n",
      "numpy 1.18.0\n",
      "pandas 0.25.3\n",
      "sklearn 0.22\n",
      "tensorflow 2.0.0\n",
      "tensorflow_core.keras 2.2.4-tf\n"
     ]
    }
   ],
   "source": [
    "%matplotlib inline\n",
    "import matplotlib as mpl\n",
    "import matplotlib.pyplot as plt\n",
    "import numpy as np\n",
    "import os\n",
    "import pandas as pd\n",
    "import sklearn\n",
    "import sys\n",
    "import tensorflow as tf\n",
    "import time\n",
    "\n",
    "from tensorflow import keras\n",
    "\n",
    "print(tf.__version__)\n",
    "print(sys.version_info)\n",
    "for module in mpl, np, pd, sklearn, tf, keras:\n",
    "    print(module.__name__, module.__version__)"
   ]
  },
  {
   "cell_type": "code",
   "execution_count": 2,
   "metadata": {},
   "outputs": [],
   "source": [
    "## 大纲\n",
    "##  1、载入数据\n",
    "##   1.1、数据处理，载入类别数据,并转化为类别词表\n",
    "##   1.2、数据处理，载入词表数据，为构建词表\n",
    "##   1.3、载入，训练，验证，测试数据，并根据词表转词ID\n",
    "\n",
    "##  2、 把数据转成tensor dataset\n",
    "##  3、构建模型 buildmodel\n",
    "##  4、训练模型\n",
    "##  5、评测模型"
   ]
  },
  {
   "cell_type": "code",
   "execution_count": 3,
   "metadata": {},
   "outputs": [],
   "source": [
    "dir_train='data\\\\cnews.train.txt'\n",
    "dir_val='data\\\\cnews.val.txt'\n",
    "dir_test='data\\\\cnews.test.txt'\n",
    "\n",
    "# prepare data output files\n",
    "seg_train_file = 'data\\\\cnews.train.seg.txt'\n",
    "seg_val_file = 'data\\\\cnews.val.seg.txt'\n",
    "seg_test_file = 'data\\\\cnews.test.seg.txt'\n",
    "\n",
    "vocab_file = 'data\\\\cnews.vocab.txt'\n",
    "# vocab_file = 'data\\\\cnews.vocab_simple.txt'\n",
    "label_vocab_file = 'data\\\\cnews.label.vocab.txt'\n",
    "\n",
    "\n",
    "def load_data(path,num_lines):\n",
    "    with open(path, 'r', encoding='utf-8') as f:\n",
    "        lines = f.readlines()\n",
    "        example_pairs = [ [w for w in line.strip('\\r\\n').split('\\t')] for line in lines[:num_lines]]\n",
    "    return zip(*example_pairs)\n",
    "\n",
    "def load_label_dict(path):\n",
    "    labels,values=load_data(path,None)\n",
    "    dd={}\n",
    "    for index,label in enumerate(labels):\n",
    "        if label not in dd.keys():\n",
    "            dd[label]=index\n",
    "    return dd\n",
    "\n",
    "num_word_threshold = 10  ## 低于此频次的，忽略不纳入词表中来\n",
    "def load_content_dict(path):\n",
    "    labels,frequencys=load_data(path,None)\n",
    "    dd={}\n",
    "    for index,label in enumerate(labels):\n",
    "        if int(frequencys[index]) < num_word_threshold:\n",
    "            continue ## 去除低频词\n",
    "#         if str(label) in ['，','。','！','？','、','：','；','“','\\”','‘','’','《','》']:\n",
    "#             continue ## 去除无效标点符号\n",
    "        idx=len(dd)\n",
    "        dd[label]=idx\n",
    "    return dd\n"
   ]
  },
  {
   "cell_type": "code",
   "execution_count": 4,
   "metadata": {},
   "outputs": [
    {
     "name": "stdout",
     "output_type": "stream",
     "text": [
      "label_dict: {'体育': 0, '娱乐': 1, '家居': 2, '房产': 3, '教育': 4, '时尚': 5, '时政': 6, '游戏': 7, '科技': 8, '财经': 9}\n",
      "word dict length: 77331\n",
      "<UNK> 0\n",
      "， 1\n",
      "的 2\n",
      "。 3\n"
     ]
    }
   ],
   "source": [
    "label_dict=load_label_dict(label_vocab_file)\n",
    "print('label_dict:',label_dict)\n",
    "word_dict=load_content_dict(vocab_file)\n",
    "print('word dict length:',len(word_dict))\n",
    "for index,(label,content) in enumerate(word_dict.items()):\n",
    "    print(label,content)\n",
    "    if index==3:\n",
    "        break"
   ]
  },
  {
   "cell_type": "code",
   "execution_count": 5,
   "metadata": {},
   "outputs": [
    {
     "name": "stdout",
     "output_type": "stream",
     "text": [
      "[0, 0]\n",
      "[2315, 5736, 822, 1305, 11, 847, 20548, 3957, 1886, 1609, 14196, 6319, 156, 708, 82, 78, 103, 23, 941, 44, 1, 1075, 2317, 5955, 1925, 822, 952, 3568, 10847, 2315, 1, 670, 2, 124, 21, 1, 700, 12242, 72, 33, 72, 4675, 1, 252, 1551, 124, 131, 7349, 277, 285, 20, 118, 208, 1, 4233, 700, 12, 385, 6, 1305, 1406, 11, 1512, 11, 5354, 5, 847, 5, 5653, 5, 1609, 5, 2937, 17196, 11, 1886, 5, 23450, 27064, 5, 2026, 6186, 5, 5954, 141, 5, 13010, 1012, 156, 1075, 1144, 1647, 986, 1012, 156, 1075, 822, 0, 1647, 986, 1012, 156, 1075, 4155, 986, 1012, 2315, 5736, 822, 7740, 12595, 986, 17, 156, 1499, 16, 0, 0, 0, 0, 0, 0, 0, 0, 0, 0, 0, 0, 0, 0, 0, 0, 0, 0, 0, 0, 0, 0, 0, 0, 0, 0, 0, 0, 0, 0, 0, 0, 0, 0, 0, 0, 0, 0, 0, 0, 0, 0, 0, 0, 0, 0, 0, 0, 0, 0, 0, 0, 0, 0, 0, 0, 0, 0, 0, 0, 0, 0, 0, 0, 0, 0, 0, 0, 0, 0, 0, 0, 0, 0, 0, 0, 0, 0, 0, 0, 0, 0, 0, 0, 0, 0, 0, 0, 0, 0, 0, 0, 0, 0, 0, 0, 0, 0, 0, 0, 0, 0, 0, 0, 0, 0, 0, 0, 0, 0, 0, 0, 0, 0, 0, 0, 0, 0, 0, 0, 0, 0, 0, 0, 0, 0, 0, 0, 0, 0, 0, 0, 0, 0, 0, 0, 0, 0, 0, 0, 0, 0, 0, 0, 0, 0, 0, 0, 0, 0, 0, 0, 0, 0, 0, 0, 0, 0, 0, 0, 0, 0, 0, 0, 0, 0, 0, 0, 0, 0, 0, 0, 0, 0, 0, 0, 0, 0, 0, 0, 0, 0, 0, 0, 0, 0, 0, 0, 0, 0, 0, 0, 0, 0, 0, 0, 0, 0, 0, 0, 0, 0, 0, 0, 0, 0, 0, 0, 0, 0, 0, 0, 0, 0, 0, 0, 0, 0, 0, 0, 0, 0, 0, 0, 0, 0, 0, 0, 0, 0, 0, 0, 0, 0, 0, 0, 0, 0, 0, 0, 0, 0, 0, 0, 0, 0, 0, 0, 0, 0, 0, 0, 0, 0, 0, 0, 0, 0, 0, 0, 0, 0, 0, 0, 0, 0, 0, 0, 0, 0, 0, 0, 0, 0, 0, 0, 0, 0, 0, 0, 0, 0, 0, 0, 0, 0, 0, 0, 0, 0, 0, 0, 0, 0, 0, 0, 0, 0, 0, 0, 0, 0, 0, 0, 0, 0, 0, 0, 0, 0, 0, 0, 0, 0, 0, 0, 0, 0, 0, 0, 0, 0, 0, 0, 0, 0, 0, 0, 0, 0, 0, 0, 0, 0, 0, 0, 0, 0, 0, 0, 0, 0, 0, 0, 0, 0, 0, 0, 0, 0, 0, 0, 0, 0, 0, 0, 0, 0, 0, 0, 0, 0, 0, 0, 0, 0, 0, 0, 0, 0, 0, 0, 0, 0, 0, 0, 0, 0, 0, 0, 0, 0, 0, 0] 500\n",
      "-------\n",
      "[10065, 593, 5939, 432, 0, 1839, 9652, 113, 28521, 60, 3126, 1112, 3381, 92, 156, 708, 4, 1005, 460, 2, 124, 21, 1, 1046, 952, 2, 1839, 139, 5676, 64, 4646, 33, 7332, 9885, 85, 2101, 6, 4082, 5091, 1, 1420, 6, 53, 952, 376, 4625, 60580, 2, 2659, 3, 4, 4083, 78, 2, 240, 14769, 1, 8031, 33, 8753, 703, 3765, 91, 319, 725, 1, 60, 10137, 12, 450, 1839, 111, 124, 38255, 6, 5676, 1, 57, 365, 10061, 367, 3, 8, 17702, 2138, 901, 181, 48, 1544, 1, 19, 449, 18, 13, 273, 1442, 1119, 3, 4552, 2, 9488, 108, 181, 48, 89, 1, 19, 1824, 18, 395, 14206, 6, 1235, 2, 570, 371, 1, 18, 1167, 2, 3774, 118, 89, 1, 1184, 18, 24, 1119, 6, 3, 9, 895, 703, 6, 32710, 32246, 2, 1252, 1, 8753, 667, 539, 122, 2516, 3, 4, 52, 5940, 35, 1232, 19, 2870, 87, 208, 2, 1167, 65, 1, 19, 40, 11, 8, 6897, 1, 34, 4283, 7, 2, 3, 9, 676, 149, 54, 51, 41, 2834, 189, 2, 8753, 1, 799, 129, 6, 1807, 474, 1839, 1721, 3006, 2, 19130, 1, 556, 4, 2317, 8, 4003, 299, 2900, 13251, 9, 2, 959, 124, 21, 703, 450, 277, 0, 2, 19117, 3, 4, 35, 367, 2, 1649, 1, 3822, 122, 1650, 22858, 2, 3077, 5450, 3, 91, 5289, 19, 5506, 113, 10846, 136, 1, 870, 940, 33, 100, 5134, 2, 810, 2725, 1, 784, 16888, 29119, 10114, 932, 19, 52, 277, 11404, 1, 164, 4495, 126, 6, 28629, 2, 34790, 136, 3, 198, 4, 484, 19, 1404, 6, 11633, 2, 264, 10, 229, 1, 39, 2508, 113, 2876, 1311, 1, 218, 1488, 89, 36, 4, 5657, 21, 31100, 3, 31100, 56, 51, 436, 30, 1075, 277, 10, 19, 7206, 2246, 915, 299, 7, 1296, 19, 381, 16067, 1, 19, 57, 51, 142, 4, 190, 698, 25825, 1, 735, 126, 108, 6, 5783, 22801, 2, 1180, 2392, 3, 1832, 56, 1, 9413, 2, 30, 28629, 2, 190, 1954, 1296, 19, 126, 2561, 1, 13298, 949, 42, 47556, 145, 304, 2, 4112, 1920, 1, 19, 5692, 6, 844, 2676, 3, 913, 4, 60, 190, 277, 1, 19, 1404, 6, 9881, 1, 4363, 129, 9413, 2389, 21, 87, 6530, 2, 638, 3, 441, 632, 19, 52, 2279, 11064, 21613, 6198, 1, 10, 315, 4, 1075, 25825, 2, 10686, 66607, 1, 6693, 5747, 20599, 0, 20361, 3, 906, 4669, 428, 11458, 2, 29044, 102, 12296, 6, 1855, 35361, 10, 2279, 0, 3812, 4, 844, 6870, 1037, 2, 2029, 1, 645, 6, 1697, 4, 24002, 2, 14522, 56, 1, 1839, 2, 15866, 1697, 4433, 949, 53, 19, 426, 6, 2240, 2, 1501, 3, 4, 1839, 2, 8753, 8344, 38, 53, 41, 4444, 1035, 7, 0, 6452, 2, 56230, 3, 198, 4, 844, 65, 7, 3297, 2, 792, 21579, 1, 39, 4, 17702, 26118, 1, 28165, 85, 570, 1, 2553, 10020, 725, 1, 108, 835, 843, 2, 391, 371, 3, 4, 116, 41, 4331, 2, 8753, 748] 500\n"
     ]
    }
   ],
   "source": [
    "# 加载数据并转化成 词ID\n",
    "max_length=500 ## 控制等长的句子\n",
    "    \n",
    "def load_label_dict(path,num_lines):\n",
    "    labels=[]\n",
    "    features=[]\n",
    "    with open(path, 'r', encoding='utf-8') as f:\n",
    "        lines = f.readlines()\n",
    "        for line in lines[:num_lines]:\n",
    "            label, content = line.strip('\\r\\n').split('\\t')\n",
    "            labels.append(label_dict[label])\n",
    "            features.append([word_dict_fun(word) for word in content.split()])\n",
    "    return labels,features\n",
    "\n",
    "def word_dict_fun(word):\n",
    "    if word in word_dict.keys():\n",
    "        return word_dict[word]\n",
    "    else:\n",
    "        return word_dict['<UNK>']\n",
    "    \n",
    "def load_data_dict(path,num_lines):\n",
    "    labels=[]\n",
    "    features=[]\n",
    "    with open(path, 'r', encoding='utf-8') as f:\n",
    "        lines = f.readlines()\n",
    "        for line in lines[:num_lines]:\n",
    "            label, content = line.strip('\\r\\n').split('\\t')\n",
    "            labels.append(label_dict[label])\n",
    "            index=0\n",
    "            sentence=[]\n",
    "            for word in content.split():\n",
    "#                 if str(word) in ['，','。','！','？','、','：','；','“','\\”','‘','’','《','》']:\n",
    "#                     continue ## 去除无效标点符号\n",
    "                    \n",
    "                if index<max_length:\n",
    "                    sentence.append(word_dict_fun(word))\n",
    "                else:\n",
    "                    break\n",
    "                index +=1\n",
    "               \n",
    "            if len(sentence)<max_length:\n",
    "                less_num=max_length-len(sentence)\n",
    "                [sentence.append(word_dict['<UNK>']) for _ in range(less_num)]    \n",
    "            features.append(sentence)\n",
    "    return labels,features\n",
    "\n",
    "test_y,text_X=load_data_dict(seg_val_file,2)\n",
    "print(test_y)\n",
    "print(text_X[0],len(text_X[0]))\n",
    "print('-------')\n",
    "print(text_X[1],len(text_X[1]))\n",
    "                "
   ]
  },
  {
   "cell_type": "code",
   "execution_count": 6,
   "metadata": {},
   "outputs": [
    {
     "name": "stdout",
     "output_type": "stream",
     "text": [
      "加载训练数据集完成： 50000\n",
      "加载验证数据集完成： 5000\n",
      "加载测试数据集完成： 10000\n"
     ]
    }
   ],
   "source": [
    "y_train,x_train=load_data_dict(seg_train_file,None)\n",
    "train_dataset = tf.data.Dataset.from_tensor_slices((x_train,y_train))\n",
    "print('加载训练数据集完成：',len(y_train))\n",
    "\n",
    "y_val,x_val=load_data_dict(seg_val_file,None)\n",
    "val_dataset = tf.data.Dataset.from_tensor_slices((x_val,y_val))\n",
    "print('加载验证数据集完成：',len(y_val))\n",
    "\n",
    "y_test,x_test=load_data_dict(seg_test_file,None)\n",
    "test_dataset = tf.data.Dataset.from_tensor_slices((x_test,y_test))\n",
    "print('加载测试数据集完成：',len(y_test))"
   ]
  },
  {
   "cell_type": "code",
   "execution_count": 7,
   "metadata": {
    "scrolled": false
   },
   "outputs": [
    {
     "name": "stdout",
     "output_type": "stream",
     "text": [
      "转换处理训练数据集完成\n",
      "转换处理验证数据集完成\n"
     ]
    }
   ],
   "source": [
    "# 装换tensor dataset\n",
    "buffer_size=len(y_train)\n",
    "batch_size=64\n",
    "\n",
    "\n",
    "train_dataset = train_dataset.shuffle(50000).batch(batch_size)\n",
    "# train_dataset = train_dataset.batch(batch_size)\n",
    "print('转换处理训练数据集完成')\n",
    "\n",
    "val_dataset = val_dataset.shuffle(5000).batch(batch_size)\n",
    "# val_dataset = val_dataset.batch(batch_size)\n",
    "print('转换处理验证数据集完成')\n",
    "\n",
    "test_dataset = test_dataset.shuffle(10000).batch(batch_size)\n",
    "# test_dataset = test_dataset.batch(batch_size)\n",
    "# print('转换处理测试数据集完成')\n",
    "    "
   ]
  },
  {
   "cell_type": "code",
   "execution_count": 8,
   "metadata": {},
   "outputs": [
    {
     "name": "stdout",
     "output_type": "stream",
     "text": [
      "tf.Tensor(\n",
      "[[11086   312  2109 ...     0     0     0]\n",
      " [ 6118    11   945 ...     0     0     0]\n",
      " [ 2371 13005 15301 ... 21446    19   104]\n",
      " ...\n",
      " [ 1540  1019 55119 ...     0     0     0]\n",
      " [22113    11   224 ...     0     0     0]\n",
      " [  788    27  9191 ...  2727   936     1]], shape=(64, 500), dtype=int32) tf.Tensor(\n",
      "[2 1 0 8 6 7 5 4 8 2 0 0 6 1 4 9 8 5 4 4 2 5 5 3 7 5 4 6 4 0 0 5 8 9 0 3 0\n",
      " 4 9 0 4 9 4 4 8 4 6 2 2 0 3 1 3 3 5 1 2 0 0 3 6 3 4 4], shape=(64,), dtype=int32)\n",
      "tf.Tensor(\n",
      "[[ 4071 26255    15 ...  9806     3   280]\n",
      " [  467    11  3814 ...     7  9951   371]\n",
      " [ 2026  2642     0 ...   667    32  1026]\n",
      " ...\n",
      " [    0 11191  6764 ...     0     0     0]\n",
      " [ 3214  8626  8896 ...    53   402  1325]\n",
      " [   15 12925    14 ...   199 20821     4]], shape=(64, 500), dtype=int32) tf.Tensor(\n",
      "[1 5 0 2 1 6 3 5 8 1 1 3 8 3 6 3 2 5 9 1 8 0 7 7 9 6 7 8 6 5 0 5 5 0 8 4 4\n",
      " 8 4 1 0 9 6 1 0 1 8 3 8 1 8 6 6 0 1 3 0 7 8 5 4 3 6 1], shape=(64,), dtype=int32)\n"
     ]
    }
   ],
   "source": [
    "for x, y in train_dataset.take(1):\n",
    "    print(x, y)\n",
    "    \n",
    "for x, y in val_dataset.take(1):\n",
    "    print(x, y)"
   ]
  },
  {
   "cell_type": "code",
   "execution_count": 9,
   "metadata": {},
   "outputs": [
    {
     "name": "stdout",
     "output_type": "stream",
     "text": [
      "77331\n",
      "Model: \"sequential\"\n",
      "_________________________________________________________________\n",
      "Layer (type)                 Output Shape              Param #   \n",
      "=================================================================\n",
      "embedding (Embedding)        (None, 500, 16)           1237296   \n",
      "_________________________________________________________________\n",
      "bidirectional (Bidirectional (None, 64)                12544     \n",
      "_________________________________________________________________\n",
      "dense (Dense)                (None, 32)                2080      \n",
      "_________________________________________________________________\n",
      "dense_1 (Dense)              (None, 10)                330       \n",
      "=================================================================\n",
      "Total params: 1,252,250\n",
      "Trainable params: 1,252,250\n",
      "Non-trainable params: 0\n",
      "_________________________________________________________________\n"
     ]
    }
   ],
   "source": [
    "embedding_dim = 16  ## 词语对应向量的长度\n",
    "# batch_size = 64\n",
    "vocab_size = len(word_dict)\n",
    "print(vocab_size)\n",
    "\n",
    "\n",
    "## 双向单层的LSTM\n",
    "bi_lstm_model = keras.models.Sequential([\n",
    "    # 1. define matrix: [vocab_size, embedding_dim]\n",
    "    # 2. [1,2,3,4..], max_length * embedding_dim\n",
    "    # 3. batch_size * max_length * embedding_dim\n",
    "    keras.layers.Embedding(vocab_size,embedding_dim,input_length=max_length),\n",
    "    keras.layers.Bidirectional(\n",
    "        keras.layers.LSTM(\n",
    "            units=32, return_sequences=False)),\n",
    "    keras.layers.Dense(32, activation = 'relu'),\n",
    "    keras.layers.Dense(10, activation='softmax'),\n",
    "])\n",
    "\n",
    "\n",
    "\n",
    "bi_lstm_model.summary()\n",
    "bi_lstm_model.compile(optimizer = 'adam',\n",
    "              loss = 'sparse_categorical_crossentropy',\n",
    "              metrics = ['accuracy'])"
   ]
  },
  {
   "cell_type": "code",
   "execution_count": 10,
   "metadata": {},
   "outputs": [
    {
     "name": "stdout",
     "output_type": "stream",
     "text": [
      "Epoch 1/20\n",
      "782/782 [==============================] - 33s 42ms/step - loss: 0.9072 - accuracy: 0.6831 - val_loss: 0.0000e+00 - val_accuracy: 0.0000e+00\n",
      "Epoch 2/20\n",
      "782/782 [==============================] - 28s 36ms/step - loss: 0.1949 - accuracy: 0.9481 - val_loss: 0.3066 - val_accuracy: 0.9142\n",
      "Epoch 3/20\n",
      "782/782 [==============================] - 28s 36ms/step - loss: 0.0636 - accuracy: 0.9842 - val_loss: 0.3216 - val_accuracy: 0.9138\n",
      "Epoch 4/20\n",
      "782/782 [==============================] - 28s 36ms/step - loss: 0.0237 - accuracy: 0.9949 - val_loss: 0.3876 - val_accuracy: 0.9122\n",
      "Epoch 5/20\n",
      "782/782 [==============================] - 28s 36ms/step - loss: 0.0173 - accuracy: 0.9959 - val_loss: 0.5067 - val_accuracy: 0.8866\n",
      "Epoch 6/20\n",
      "782/782 [==============================] - 28s 36ms/step - loss: 0.0084 - accuracy: 0.9985 - val_loss: 0.4514 - val_accuracy: 0.9090\n",
      "Epoch 7/20\n",
      "782/782 [==============================] - 28s 36ms/step - loss: 0.0071 - accuracy: 0.9985 - val_loss: 0.4623 - val_accuracy: 0.9108\n",
      "Epoch 8/20\n",
      "782/782 [==============================] - 28s 36ms/step - loss: 0.0053 - accuracy: 0.9987 - val_loss: 0.5106 - val_accuracy: 0.9062\n",
      "Epoch 9/20\n",
      "782/782 [==============================] - 28s 36ms/step - loss: 0.0068 - accuracy: 0.9984 - val_loss: 0.5465 - val_accuracy: 0.8946\n",
      "Epoch 10/20\n",
      "782/782 [==============================] - 28s 36ms/step - loss: 0.0044 - accuracy: 0.9990 - val_loss: 0.5163 - val_accuracy: 0.9136\n",
      "Epoch 11/20\n",
      "782/782 [==============================] - 28s 36ms/step - loss: 0.0035 - accuracy: 0.9993 - val_loss: 0.4845 - val_accuracy: 0.9150\n",
      "Epoch 12/20\n",
      "782/782 [==============================] - 28s 36ms/step - loss: 0.0016 - accuracy: 0.9997 - val_loss: 0.5781 - val_accuracy: 0.9046\n",
      "Epoch 13/20\n",
      "782/782 [==============================] - 28s 36ms/step - loss: 0.0038 - accuracy: 0.9991 - val_loss: 0.5740 - val_accuracy: 0.8940\n",
      "Epoch 14/20\n",
      "782/782 [==============================] - 28s 36ms/step - loss: 0.0045 - accuracy: 0.9988 - val_loss: 0.5655 - val_accuracy: 0.8926\n",
      "Epoch 15/20\n",
      "782/782 [==============================] - 28s 36ms/step - loss: 0.0026 - accuracy: 0.9992 - val_loss: 0.5735 - val_accuracy: 0.9110\n",
      "Epoch 16/20\n",
      "782/782 [==============================] - 28s 36ms/step - loss: 0.0011 - accuracy: 0.9996 - val_loss: 0.6734 - val_accuracy: 0.9028\n",
      "Epoch 17/20\n",
      "782/782 [==============================] - 28s 36ms/step - loss: 0.0014 - accuracy: 0.9996 - val_loss: 0.5691 - val_accuracy: 0.9008\n",
      "Epoch 18/20\n",
      "782/782 [==============================] - 28s 36ms/step - loss: 6.3053e-04 - accuracy: 0.9999 - val_loss: 0.6413 - val_accuracy: 0.9116\n",
      "Epoch 19/20\n",
      "782/782 [==============================] - 28s 36ms/step - loss: 1.7012e-04 - accuracy: 1.0000 - val_loss: 0.6085 - val_accuracy: 0.9106\n",
      "Epoch 20/20\n",
      "782/782 [==============================] - 28s 36ms/step - loss: 1.6903e-04 - accuracy: 0.9999 - val_loss: 0.6349 - val_accuracy: 0.9092\n"
     ]
    }
   ],
   "source": [
    "history = bi_lstm_model.fit(train_dataset,\n",
    "                                epochs = 20,\n",
    "                                validation_data = val_dataset)"
   ]
  },
  {
   "cell_type": "code",
   "execution_count": 11,
   "metadata": {},
   "outputs": [
    {
     "data": {
      "image/png": "[encoded data removed]",
      "text/plain": [
       "<Figure size 576x360 with 1 Axes>"
      ]
     },
     "metadata": {
      "needs_background": "light"
     },
     "output_type": "display_data"
    },
    {
     "data": {
      "image/png": "[encoded data removed]",
      "text/plain": [
       "<Figure size 576x360 with 1 Axes>"
      ]
     },
     "metadata": {
      "needs_background": "light"
     },
     "output_type": "display_data"
    }
   ],
   "source": [
    "def plot_learning_curves(history, label, epochs, min_value, max_value):\n",
    "    data = {}\n",
    "    data[label] = history.history[label]\n",
    "    data['val_' + label] = history.history['val_' + label]\n",
    "    pd.DataFrame(data).plot(figsize=(8, 5))\n",
    "    plt.grid(True)\n",
    "    plt.axis([0, epochs, min_value, max_value])\n",
    "    plt.show()\n",
    "\n",
    "\n",
    "plot_learning_curves(history, 'accuracy', 20, 0, 1)\n",
    "plot_learning_curves(history, 'loss', 20, 0, 1)\n",
    "\n"
   ]
  },
  {
   "cell_type": "code",
   "execution_count": 12,
   "metadata": {},
   "outputs": [
    {
     "name": "stdout",
     "output_type": "stream",
     "text": [
      "157/157 [==============================] - 2s 14ms/step - loss: 0.6505 - accuracy: 0.9214\n"
     ]
    },
    {
     "data": {
      "text/plain": [
       "[0.6505163641421089, 0.9214]"
      ]
     },
     "execution_count": 12,
     "metadata": {},
     "output_type": "execute_result"
    }
   ],
   "source": [
    "bi_lstm_model.evaluate(test_dataset)"
   ]
  },
  {
   "cell_type": "code",
   "execution_count": null,
   "metadata": {},
   "outputs": [],
   "source": []
  }
 ],
 "metadata": {
  "kernelspec": {
   "display_name": "Python 3",
   "language": "python",
   "name": "python3"
  },
  "language_info": {
   "codemirror_mode": {
    "name": "ipython",
    "version": 3
   },
   "file_extension": ".py",
   "mimetype": "text/x-python",
   "name": "python",
   "nbconvert_exporter": "python",
   "pygments_lexer": "ipython3",
   "version": "3.6.2"
  }
 },
 "nbformat": 4,
 "nbformat_minor": 2
}
